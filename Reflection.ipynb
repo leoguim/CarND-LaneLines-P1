{
 "cells": [
  {
   "cell_type": "markdown",
   "metadata": {},
   "source": [
    "---\n",
    "\n",
    "**Finding Lane Lines on the Road**\n",
    "\n",
    "The goals / steps of this project are the following:\n",
    "* Make a pipeline that finds lane lines on the road\n",
    "* Reflect on your work in a written report\n",
    "\n",
    "\n",
    "[//]: # (Image References)\n",
    "\n",
    "[image1]: ./examples/grayscale.jpg \"Grayscale\"\n",
    "\n",
    "---\n",
    "\n",
    "### Reflection\n",
    "\n",
    "###1. Pipeline description:\n",
    "\n",
    "My pipeline consisted of 5 steps. First, I converted the images to grayscale, then I .... \n",
    "\n",
    "In order to draw a single line on the left and right lanes, I modified the draw_lines() function by ...\n",
    "\n",
    "If you'd like to include images to show how the pipeline works, here is how to include an image: \n",
    "\n",
    "![alt text][image1]\n",
    "\n",
    "\n",
    "###2. Identify potential shortcomings with your current pipeline\n",
    "\n",
    "\n",
    "One potential shortcoming would be what would happen when ... \n",
    "\n",
    "Another shortcoming could be ...\n",
    "\n",
    "\n",
    "###3. Suggest possible improvements to your pipeline\n",
    "\n",
    "A possible improvement would be to ...\n",
    "\n",
    "Another potential improvement could be to ..."
   ]
  },
  {
   "cell_type": "markdown",
   "metadata": {},
   "source": [
    "# Reflection"
   ]
  },
  {
   "cell_type": "markdown",
   "metadata": {},
   "source": [
    "## 1. Pipepline description\n",
    "\n",
    "The pipeline used the helper functions with little modification, except for the following:\n",
    "1. Added a extrapolate_line function that allows to fit a 1-d polynomial line through all the x,y coordinates passed as an argument (array of lines). The function traces a line between the bottom of the image and 3/5 of the height. The return of the function is a single line defined by an x,y pair.\n",
    "2. Modified the draw_lines function to segregate the 'left' and 'right' lines based on slope, and using a minimum slope of +-0.2 to reduce some noise. The extrapolate_line function is called for this 2 lines, and the function returns the image with the 2 'straight' lines.\n",
    "\n",
    "The steps of the pipeline are described below:\n",
    "\n",
    "1. Trasnformed the image to gray scale and applied gaussian blur to reduce noise\n",
    "2. Applied canny edge detection, and kept the resulting images to an area (region of interest). For the region of interest I used a triangle shape with vertices at both bottom ends and mid-point, that correspond closer to the zone delimeted by the driving lines.\n",
    "3. Used a Hough transform function to get the edges from step 2 to line representations, and applied the extrapolation function to create straight line that fit through hough points, and extend close to the area of interest.\n",
    "4. Overlayed the lines from step 3 to the original image.\n",
    "\n"
   ]
  },
  {
   "cell_type": "markdown",
   "metadata": {},
   "source": [
    "## 2. Potential shortcomings with your current pipeline"
   ]
  },
  {
   "cell_type": "markdown",
   "metadata": {},
   "source": [
    "The following is a list of shortcomings that I was not able to resolve due to the timeframe:\n",
    "1. Pipeline worked very well with the 2 test videos, but I didn't provide a good solution for the challenge video. See improvement to Pipeline \n",
    "2. During video compilation got some errors due to 0-lenght arrays mostly when no lines where detected on some frames. Will need to modify functions to account for this type of exceptions.\n",
    "3. The area of interest and extension of edge lines have been hard-coded to specific values to satisfy the project. Current pipeline might not work with video that falls out this parameters."
   ]
  },
  {
   "cell_type": "markdown",
   "metadata": {},
   "source": [
    "# 3. Improvement to Pipeline"
   ]
  },
  {
   "cell_type": "markdown",
   "metadata": {},
   "source": [
    "The following is a list of improvement to pipeline:\n",
    "1. Work on function to eliminate noise due to multiple factors such change in brightness, extraneous objects, etc - Use a combination of colors and thr\n",
    "2. Use a higher degree polynomail (2-d might work fine), and use more points to project edge lines. \n",
    "3. Work on a better function to define the area of interest and "
   ]
  }
 ],
 "metadata": {
  "kernelspec": {
   "display_name": "Python 3",
   "language": "python",
   "name": "python3"
  },
  "language_info": {
   "codemirror_mode": {
    "name": "ipython",
    "version": 3
   },
   "file_extension": ".py",
   "mimetype": "text/x-python",
   "name": "python",
   "nbconvert_exporter": "python",
   "pygments_lexer": "ipython3",
   "version": "3.5.2"
  },
  "widgets": {
   "state": {},
   "version": "1.1.2"
  }
 },
 "nbformat": 4,
 "nbformat_minor": 2
}
